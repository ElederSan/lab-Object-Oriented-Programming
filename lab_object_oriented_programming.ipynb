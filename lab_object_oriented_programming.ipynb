{
 "cells": [
  {
   "cell_type": "markdown",
   "id": "a26b0c1e",
   "metadata": {},
   "source": [
    "\n",
    "<img src=\"https://bit.ly/2VnXWr2\" alt=\"Ironhack Logo\" width=\"100\"/>\n",
    "\n",
    "# Lab | Object Oriented Programming\n",
    "\n",
    "## Introduction\n",
    "\n",
    "In this lab you have to implement a Python class for a TV.\n",
    "\n",
    "## Constructor\n",
    "\n",
    "Crete a Python Tv class with a constructor and the following attributes:\n",
    "\n",
    "* .on (Boolean)\n",
    "* .volume (float in [0,100])\n",
    "* .active_channel (int in [1,10])\n",
    "* .input (str in [\"Anthena\", \"HDMI1\", \"HDMI2\", \"HDMI3\"])\n",
    "* .size (float in [42, 50, 55, 65, 75])\n",
    "\n",
    "## Methods\n",
    "\n",
    "* .switch_on()\n",
    "* .switch_off()\n",
    "* .set_volume(volume: int)\n",
    "* .change_channel(channel: int)\n",
    "* .set_input(value: str)\n",
    "\n",
    "## Submission\n",
    "\n",
    "Upon completion, add your jupyter notebook to git. Then commit git and push your branch to the remote.\n",
    "\n",
    "## Resources\n",
    "\n",
    "[Classes in Python Tutorials](https://www.youtube.com/playlist?list=PL-osiE80TeTsqhIuOqKhwlXsIBIdSeYtc)\n"
   ]
  },
  {
   "cell_type": "code",
   "execution_count": 38,
   "id": "a3625715",
   "metadata": {},
   "outputs": [],
   "source": [
    "class Tv():\n",
    "    # We create the constructor and pass between parentheses the attributes\n",
    " \n",
    "    def __init__(self, on, volume, active_channel, tv_input, size):\n",
    "        self.on = on\n",
    "        self.volume = volume\n",
    "        self.active_channel = active_channel\n",
    "        self.tv_input = tv_input\n",
    "        self.size = size\n",
    "    \n",
    "    # We add the method switch_on, which set the self.on att. to True if passed\n",
    "    \n",
    "    def switch_on(self):\n",
    "        self.on = True\n",
    "        print(\"Tv is now on\")\n",
    "        \n",
    "     # We add the method switch_off, which set the self.on att. to False if passed \n",
    "    \n",
    "    def switch_off(self):\n",
    "        self.on = False\n",
    "        print(\"Tv is now off\")\n",
    "    \n",
    "    # We add the method set_volume and consider giving a message in case of wrong input\n",
    "    \n",
    "    def set_volume(self, volume):\n",
    "        if volume in range(0, 101):\n",
    "            self.volume = volume\n",
    "            print(\"Volume set to \" + str(self.volume))\n",
    "        else:\n",
    "            print(\"Please input a value between 0 and 100\")\n",
    "\n",
    "     # We add the method change_channel and consider giving a message in case of wrong input        \n",
    "            \n",
    "    def change_channel(self, active_channel):\n",
    "        if active_channel in range(1, 11):\n",
    "            self.active_channel = active_channel\n",
    "            print(\"Channel changed to \" + str(self.active_channel))\n",
    "        else:\n",
    "            print(\"Please input a value between 1 and 10\")\n",
    "\n",
    "    # We add the method set_input and consider giving a message in case of wrong input         \n",
    "            \n",
    "    def set_input(self, tv_input):\n",
    "        if tv_input in [\"Antenna\", \"HDMI1\", \"HDMI2\", \"HDMI3\"]:\n",
    "            self.tv_input = tv_input\n",
    "            print('Tv input is: ' + self.tv_input)\n",
    "        else:\n",
    "            print(\"Please select an input as string from the list: Antenna, HDMI1, HDMI2, HDMI3\")\n"
   ]
  },
  {
   "cell_type": "code",
   "execution_count": 39,
   "id": "f9dc3b1b",
   "metadata": {},
   "outputs": [],
   "source": [
    "# We set the starting parameters / attributes:\n",
    "\n",
    "tv = Tv(on=True, volume=50, active_channel=5, tv_input=\"HDMI1\", size=42)\n"
   ]
  },
  {
   "cell_type": "code",
   "execution_count": 29,
   "id": "4a702fa1",
   "metadata": {},
   "outputs": [
    {
     "name": "stdout",
     "output_type": "stream",
     "text": [
      "Volume set to 5\n"
     ]
    }
   ],
   "source": [
    "tv.set_volume(5)"
   ]
  },
  {
   "cell_type": "code",
   "execution_count": 30,
   "id": "4e0a30a3",
   "metadata": {},
   "outputs": [
    {
     "name": "stdout",
     "output_type": "stream",
     "text": [
      "Please input a value between 0 and 100\n"
     ]
    }
   ],
   "source": [
    "tv.set_volume(120)"
   ]
  },
  {
   "cell_type": "code",
   "execution_count": 31,
   "id": "07b16c48",
   "metadata": {},
   "outputs": [
    {
     "name": "stdout",
     "output_type": "stream",
     "text": [
      "Tv is now off\n"
     ]
    }
   ],
   "source": [
    "tv.switch_off()"
   ]
  },
  {
   "cell_type": "code",
   "execution_count": 33,
   "id": "21da6485",
   "metadata": {},
   "outputs": [
    {
     "name": "stdout",
     "output_type": "stream",
     "text": [
      "Tv is now on\n"
     ]
    }
   ],
   "source": [
    "tv.switch_on()"
   ]
  },
  {
   "cell_type": "code",
   "execution_count": 41,
   "id": "6618686c",
   "metadata": {},
   "outputs": [
    {
     "name": "stdout",
     "output_type": "stream",
     "text": [
      "Tv input is: HDMI1\n"
     ]
    }
   ],
   "source": [
    "tv.set_input(\"HDMI1\")"
   ]
  },
  {
   "cell_type": "code",
   "execution_count": 42,
   "id": "b84f47ff",
   "metadata": {},
   "outputs": [
    {
     "name": "stdout",
     "output_type": "stream",
     "text": [
      "Please select an input as string from the list: Antenna, HDMI1, HDMI2, HDMI3\n"
     ]
    }
   ],
   "source": [
    "tv.set_input(\"cable\")"
   ]
  },
  {
   "cell_type": "code",
   "execution_count": 43,
   "id": "a999e07f",
   "metadata": {},
   "outputs": [
    {
     "name": "stdout",
     "output_type": "stream",
     "text": [
      "Please input a value between 1 and 10\n"
     ]
    }
   ],
   "source": [
    "tv.change_channel(25)"
   ]
  },
  {
   "cell_type": "code",
   "execution_count": 44,
   "id": "90f87bd0",
   "metadata": {},
   "outputs": [
    {
     "name": "stdout",
     "output_type": "stream",
     "text": [
      "Channel changed to 6\n"
     ]
    }
   ],
   "source": [
    "tv.change_channel(6)"
   ]
  },
  {
   "cell_type": "code",
   "execution_count": null,
   "id": "e39f7c34",
   "metadata": {},
   "outputs": [],
   "source": []
  }
 ],
 "metadata": {
  "kernelspec": {
   "display_name": "Python 3 (ipykernel)",
   "language": "python",
   "name": "python3"
  },
  "language_info": {
   "codemirror_mode": {
    "name": "ipython",
    "version": 3
   },
   "file_extension": ".py",
   "mimetype": "text/x-python",
   "name": "python",
   "nbconvert_exporter": "python",
   "pygments_lexer": "ipython3",
   "version": "3.11.5"
  }
 },
 "nbformat": 4,
 "nbformat_minor": 5
}
